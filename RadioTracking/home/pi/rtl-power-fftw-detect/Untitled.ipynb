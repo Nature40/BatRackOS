{
 "cells": [
  {
   "cell_type": "code",
   "execution_count": 9,
   "metadata": {},
   "outputs": [
    {
     "data": {
      "text/plain": [
       "array([-9.89682078e+11, -9.64807234e+11, -1.08018939e+12, ...,\n",
       "       -1.14438204e+12, -9.08205102e+11, -1.05908261e+12])"
      ]
     },
     "execution_count": 9,
     "metadata": {},
     "output_type": "execute_result"
    }
   ],
   "source": [
    "import numpy as np\n",
    "import pandas as pd\n",
    "\n",
    "# Create a dtype with the binary data format and the desired column names\n",
    "dt = np.dtype([('a', 'i4'), ('b', 'i4'), ('c', 'i4'), ('d', 'f4'), ('e', 'i4'),\n",
    "               ('f', 'i4', (256,))])\n",
    "data = np.fromfile(\"50-400.bin\", dtype=float)\n",
    "data\n",
    "#df = pd.DataFrame(data)\n",
    "\n",
    "# Or if you want to explicitly set the column names\n",
    "#df = pd.DataFrame(data, columns=data.dtype.names)"
   ]
  },
  {
   "cell_type": "code",
   "execution_count": null,
   "metadata": {},
   "outputs": [],
   "source": []
  }
 ],
 "metadata": {
  "kernelspec": {
   "display_name": "Python 3.7.6 64-bit",
   "language": "python",
   "name": "python37664bitaa018aa2054f402f8830c6d6c8fc81c8"
  },
  "language_info": {
   "codemirror_mode": {
    "name": "ipython",
    "version": 3
   },
   "file_extension": ".py",
   "mimetype": "text/x-python",
   "name": "python",
   "nbconvert_exporter": "python",
   "pygments_lexer": "ipython3",
   "version": "3.8.5"
  }
 },
 "nbformat": 4,
 "nbformat_minor": 4
}
